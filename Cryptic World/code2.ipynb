{
 "cells": [
  {
   "cell_type": "code",
   "execution_count": 4,
   "id": "a634414b",
   "metadata": {},
   "outputs": [
    {
     "name": "stdout",
     "output_type": "stream",
     "text": [
      "b'je4S1TEyjkhIA7nV7bAz-pNvjG8itg1e_drECyTLqkI='\n"
     ]
    }
   ],
   "source": [
    "#import the module\n",
    "\n",
    "from cryptography.fernet import Fernet\n",
    "\n",
    "#key Generation\n",
    "key=Fernet.generate_key()\n",
    "print(key)"
   ]
  },
  {
   "cell_type": "code",
   "execution_count": 5,
   "id": "57e8abea",
   "metadata": {},
   "outputs": [],
   "source": [
    "#encryption part\n",
    "\n",
    "fernet=Fernet(key)\n",
    "with open('key.key','wb') as filekey:\n",
    "    filekey.write(key)\n",
    "    \n",
    "with open('key.key','rb') as filekey:\n",
    "    key=filekey.read()\n",
    "    \n",
    "with open('aisciences.wav','rb') as file:\n",
    "    originalaudio=file.read()\n",
    "    \n",
    "encrypted=fernet.encrypt(originalaudio)\n",
    "\n",
    "with open('voice encryption.wav','wb') as encrypted_file:\n",
    "    encrypted_file.write(encrypted)"
   ]
  },
  {
   "cell_type": "code",
   "execution_count": 6,
   "id": "7598ef8f",
   "metadata": {},
   "outputs": [],
   "source": [
    "#Decryption Part\n",
    "\n",
    "fernet=Fernet(key)\n",
    "with open('voice encryption.wav','rb') as enc_file:\n",
    "    encrypted=enc_file.read()\n",
    "    \n",
    "decrypted=fernet.decrypt(encrypted)\n",
    "\n",
    "with open('voice decryption.wav','wb') as dec_file:\n",
    "    dec_file.write(decrypted)"
   ]
  },
  {
   "cell_type": "code",
   "execution_count": null,
   "id": "e16a55d4",
   "metadata": {},
   "outputs": [],
   "source": []
  }
 ],
 "metadata": {
  "kernelspec": {
   "display_name": "Python 3 (ipykernel)",
   "language": "python",
   "name": "python3"
  },
  "language_info": {
   "codemirror_mode": {
    "name": "ipython",
    "version": 3
   },
   "file_extension": ".py",
   "mimetype": "text/x-python",
   "name": "python",
   "nbconvert_exporter": "python",
   "pygments_lexer": "ipython3",
   "version": "3.9.12"
  }
 },
 "nbformat": 4,
 "nbformat_minor": 5
}
