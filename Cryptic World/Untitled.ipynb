{
 "cells": [
  {
   "cell_type": "code",
   "execution_count": 4,
   "id": "abb047c3",
   "metadata": {},
   "outputs": [
    {
     "name": "stdout",
     "output_type": "stream",
     "text": [
      "Requirement already satisfied: pyttsx3 in c:\\users\\meenakshi\\anaconda3\\lib\\site-packages (2.90)\n",
      "Requirement already satisfied: pywin32 in c:\\users\\meenakshi\\anaconda3\\lib\\site-packages (from pyttsx3) (302)\n",
      "Requirement already satisfied: comtypes in c:\\users\\meenakshi\\anaconda3\\lib\\site-packages (from pyttsx3) (1.1.10)\n",
      "Requirement already satisfied: pypiwin32 in c:\\users\\meenakshi\\anaconda3\\lib\\site-packages (from pyttsx3) (223)\n",
      "Note: you may need to restart the kernel to use updated packages.\n"
     ]
    }
   ],
   "source": [
    "pip install pyttsx3"
   ]
  },
  {
   "cell_type": "code",
   "execution_count": 5,
   "id": "aac3c577",
   "metadata": {},
   "outputs": [],
   "source": [
    "from tkinter import *\n",
    "from tkinter import ttk\n",
    "from tkinter import filedialog\n",
    "from tkinter import messagebox"
   ]
  },
  {
   "cell_type": "code",
   "execution_count": 6,
   "id": "91c64323",
   "metadata": {},
   "outputs": [],
   "source": [
    "import os, random\n",
    "from Crypto.Cipher import AES\n",
    "from Crypto.Hash import SHA256\n",
    "import tkinter\n",
    "from tkinter import *\n",
    "from tkinter import filedialog\n",
    "from tkinter import messagebox"
   ]
  },
  {
   "cell_type": "code",
   "execution_count": 7,
   "id": "3c970af1",
   "metadata": {},
   "outputs": [],
   "source": [
    "filename = None\n",
    "password = None"
   ]
  },
  {
   "cell_type": "code",
   "execution_count": 8,
   "id": "9a6697e3",
   "metadata": {},
   "outputs": [],
   "source": [
    "def encrypt(key, filename):\n",
    "    chunksize = 64 * 1024\n",
    "    outputFile = filename+\".enc\"\n",
    "    filesize = str(os.path.getsize(filename)).zfill(16)\n",
    "    IV = ''\n",
    "\n",
    "    for i in range(16):\n",
    "        IV += chr(random.randint(0, 0xFF))\n",
    "\n",
    "    encryptor = AES.new(key, AES.MODE_CBC, IV)\n",
    "\n",
    "    with open(filename, 'rb') as infile:\n",
    "        with open(outputFile, 'wb') as outfile:\n",
    "            outfile.write(filesize)\n",
    "            outfile.write(IV)\n",
    "\n",
    "            while True:\n",
    "                chunk = infile.read(chunksize)\n",
    "\n",
    "                if len(chunk) == 0:\n",
    "                    break\n",
    "                elif len(chunk) % 16 != 0:\n",
    "                    chunk += ' ' * (16 - (len(chunk) % 16))\n",
    "\n",
    "                outfile.write(encryptor.encrypt(chunk))\n",
    "\n"
   ]
  },
  {
   "cell_type": "code",
   "execution_count": 9,
   "id": "dab31e3b",
   "metadata": {},
   "outputs": [],
   "source": [
    "\n",
    "def decrypt(key, filename):\n",
    "    chunksize = 64 * 1024\n",
    "    outputFile = filename[:-4]\n",
    "\n",
    "    with open(filename, 'rb') as infile:\n",
    "        filesize = long(infile.read(16))\n",
    "        IV = infile.read(16)\n",
    "\n",
    "        decryptor = AES.new(key, AES.MODE_CBC, IV)\n",
    "\n",
    "        with open(outputFile, 'wb') as outfile:\n",
    "            while True:\n",
    "                chunk = infile.read(chunksize)\n",
    "\n",
    "                if len(chunk) == 0:\n",
    "                    break\n",
    "\n",
    "                outfile.write(decryptor.decrypt(chunk))\n",
    "            outfile.truncate(filesize)\n",
    "\n"
   ]
  },
  {
   "cell_type": "code",
   "execution_count": 10,
   "id": "76df1c74",
   "metadata": {},
   "outputs": [],
   "source": [
    "def getKey(password):\n",
    "    hasher = SHA256.new(password)\n",
    "    return hasher.digest()\n"
   ]
  },
  {
   "cell_type": "code",
   "execution_count": 11,
   "id": "6f1b5dd0",
   "metadata": {},
   "outputs": [],
   "source": [
    "def load_file():\n",
    "    global password, filename\n",
    "    text_file = filedialog.askopenfile()\n",
    "    if text_file.name != None:\n",
    "        filename = text_file.name\n",
    "        var.set(filename)"
   ]
  },
  {
   "cell_type": "code",
   "execution_count": 12,
   "id": "79c16214",
   "metadata": {},
   "outputs": [],
   "source": [
    "def encrypt_the_file():\n",
    "    global filename, password\n",
    "    if filename != None:\n",
    "        password = passInput.get()\n",
    "        encrypt(getKey(password), filename)\n",
    "        # sys.stdout.write('Password is ' + password)\n",
    "        # encrypt_file(filename, password)\n",
    "    else:\n",
    "        messagebox.showerror(title=\"Error\", message=\"There was no file loaded to encrypt\")\n"
   ]
  },
  {
   "cell_type": "code",
   "execution_count": 13,
   "id": "c8f891e5",
   "metadata": {},
   "outputs": [],
   "source": [
    "def decrypt_the_file():\n",
    "    global filename, key\n",
    "    if filename != None:\n",
    "        password = passInput.get()\n",
    "        decrypt(getKey(password), filename)\n",
    "        # sys.stdout.write('gonna decrypt the file' + '\\n')\n",
    "        # decrypt_file(fname, password)\n",
    "    else:\n",
    "        messagebox.showerror(title=\"Error\", message=\"There was no file loaded to decrypt\")\n"
   ]
  },
  {
   "cell_type": "code",
   "execution_count": 14,
   "id": "201de996",
   "metadata": {},
   "outputs": [],
   "source": [
    "def donothing():\n",
    "   filewin = Toplevel(root)\n",
    "   mystring = StringVar()\n",
    "   mystring= '''Cryptic World! is an encryption - decryption tool written in Python which uses AES-CBC encryption technique. It uses the AES-256-CBC cipher and encodes the encrypted\n",
    "    data with Base64. In simple terms, user can use the tool to encrypt their files whatsoever it may be,\n",
    "     for example a text file , an image, an audio-video file , a pdf , or a typical openXML with a password\n",
    "     and can keep them safe until it is decrypted using the same password.'''\n",
    "\n",
    "   labelU = Label(filewin, text=mystring)\n",
    "   labelU.configure(wraplength=300, bg='turquoise', fg='Black',activebackground='coral')\n",
    "   labelU.pack()"
   ]
  },
  {
   "cell_type": "code",
   "execution_count": 15,
   "id": "41ac6a30",
   "metadata": {},
   "outputs": [],
   "source": [
    "root = tkinter.Tk()\n",
    "root.title(\"Cryptic World!\")\n",
    "root.geometry(\"500x450\")\n",
    "root.configure(background='turquoise')\n",
    "\n",
    "menubar = Menu(root)\n",
    "helpmenu = Menu(menubar, tearoff=0, activebackground='coral', bg='turquoise')\n",
    "\n",
    "helpmenu.add_command(label=\"About Cryptic World!\", command=donothing)\n",
    "helpmenu.add_command(label=\"Quit the tool\", command=root.quit)\n",
    "menubar.add_cascade(label=\"Help\", menu=helpmenu)\n"
   ]
  },
  {
   "cell_type": "code",
   "execution_count": 16,
   "id": "260906d9",
   "metadata": {},
   "outputs": [],
   "source": [
    "root.config(menu=menubar)\n",
    "\n",
    "# GUI STUFF over here\n",
    "# l = Label(root, text=\"AstroCrypt\")\n",
    "# l.configure(background='beige')\n",
    "# l.pack(side=TOP, padx=0, pady=20, fill=X)\n",
    "\n",
    "frame = Frame(root)\n",
    "frame.pack(padx=0, pady=30)\n",
    "frame.configure(background='turquoise')"
   ]
  },
  {
   "cell_type": "code",
   "execution_count": 17,
   "id": "1f9700d3",
   "metadata": {},
   "outputs": [],
   "source": [
    "var = StringVar()\n",
    "Filelabel = Label(frame, textvariable=var, relief=FLAT)\n",
    "Filelabel.configure(bg='white', fg='Black', anchor=E, font=(\"default\", 8), padx=4, pady=4, activebackground='coral', width=50)\n",
    "var.set(\" Check the path here !!!\")\n",
    "Filelabel.pack(side=TOP, padx=10, pady=0)\n",
    "\n",
    "loadButton = tkinter.Button(frame, text=\"   LOAD FILE   \", command=load_file)\n",
    "loadButton.pack(side=RIGHT, padx=10, pady=5, fill=X)\n",
    "loadButton.configure(bg='turquoise4', fg='white', activebackground='coral')\n"
   ]
  },
  {
   "cell_type": "code",
   "execution_count": 18,
   "id": "36d2e67c",
   "metadata": {},
   "outputs": [],
   "source": [
    "frame1 = Frame(root)\n",
    "frame1.pack(padx=0, pady=0)\n",
    "frame1.configure(background='turquoise')\n",
    "frame2 = Frame(root)\n",
    "frame2.pack(padx=0, pady=40)\n",
    "frame2.configure(background='turquoise')\n",
    "\n",
    "l1 = Label(frame1, text=\"ENTER KEY\")\n",
    "l1.configure(background='turquoise')\n",
    "passInput = Entry(frame1, show=\"*\", width=30)\n",
    "password = passInput.get()\n",
    "encryptButton = tkinter.Button(frame2, text=\"       ENCRYPT      \", command=encrypt_the_file)\n",
    "encryptButton.configure(bg='turquoise4', fg='white', activebackground='coral')\n",
    "decryptButton = tkinter.Button(frame2, text=\"       DECRYPT      \", command=decrypt_the_file)\n",
    "decryptButton.configure(bg='turquoise4', fg='white', activebackground='coral')\n"
   ]
  },
  {
   "cell_type": "code",
   "execution_count": null,
   "id": "9e7b63de",
   "metadata": {},
   "outputs": [],
   "source": [
    "l1.pack(side=LEFT, padx=5, pady=0, fill=X)\n",
    "passInput.pack(side=RIGHT, padx=5, pady=0, fill=X)\n",
    "encryptButton.pack(side=LEFT, padx=10, pady=0, fill=X)\n",
    "decryptButton.pack(side=RIGHT, padx=10, pady=0, fill=X)\n",
    "root.mainloop()"
   ]
  },
  {
   "cell_type": "code",
   "execution_count": null,
   "id": "a8bb46bf",
   "metadata": {},
   "outputs": [],
   "source": []
  }
 ],
 "metadata": {
  "kernelspec": {
   "display_name": "Python 3 (ipykernel)",
   "language": "python",
   "name": "python3"
  },
  "language_info": {
   "codemirror_mode": {
    "name": "ipython",
    "version": 3
   },
   "file_extension": ".py",
   "mimetype": "text/x-python",
   "name": "python",
   "nbconvert_exporter": "python",
   "pygments_lexer": "ipython3",
   "version": "3.9.12"
  }
 },
 "nbformat": 4,
 "nbformat_minor": 5
}
